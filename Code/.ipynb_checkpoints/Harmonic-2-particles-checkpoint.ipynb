{
 "cells": [
  {
   "cell_type": "code",
   "execution_count": 31,
   "id": "8584a223-2d89-4e0d-b2da-f6ad1dfadf65",
   "metadata": {},
   "outputs": [
    {
     "name": "stdout",
     "output_type": "stream",
     "text": [
      "tensor([[ 0.0150, -0.5363],\n",
      "        [-1.0729,  0.0396],\n",
      "        [ 1.6461, -1.5858],\n",
      "        [ 1.4719,  0.1775],\n",
      "        [ 0.7703, -0.5292]], dtype=torch.float64)\n",
      "tensor([[0., 0.],\n",
      "        [0., 0.],\n",
      "        [0., 0.],\n",
      "        [0., 0.],\n",
      "        [0., 0.]], dtype=torch.float64)\n"
     ]
    }
   ],
   "source": [
    "##### import torch\n",
    "import numpy as np\n",
    "import matplotlib.pyplot as plt\n",
    "import tqdm\n",
    "from torch.func import jacfwd, jacrev, vmap\n",
    "import time\n",
    "import torch\n",
    "from torch import tensor, sum\n",
    "\n",
    "torch.manual_seed(0)\n",
    "\n",
    "m = torch.tensor([2],dtype=torch.float64)\n",
    "k = torch.tensor([4],dtype=torch.float64)\n",
    "alpha = torch.tensor([0.0],dtype=torch.float64) #ignore this parameter for now\n",
    "\n",
    "n_points = 5\n",
    "q_min = -1\n",
    "q_max = 1\n",
    "qdot_min = -1\n",
    "qdot_max = 1\n",
    "\n",
    "def L(qv,qdotv,m,k,alpha):\n",
    "    return sum(0.5*m*qdotv**2) - sum(0.5*k*qv**2) - alpha*( 1/ (qv[0]-qv[1]) )**2\n",
    "\n",
    "q_sampling = (q_max - q_min)*(torch.rand([2,n_points])) + q_min\n",
    "qdot_sampling = (qdot_max - qdot_min)*(torch.rand([2,n_points])) + qdot_min\n",
    "\n",
    "\n",
    "#define flattened q, qdot arrays (n_points^2), (n_points^2), using new torch.expand.reshape method.\n",
    "Q0 = q_sampling[0,:]\n",
    "Q1 = q_sampling[1,:]\n",
    "QD0 = qdot_sampling[0,:]\n",
    "QD1 = qdot_sampling[1,:]\n",
    "\n",
    "im = 0*torch.zeros([n_points,n_points])\n",
    "#print(im.shape)\n",
    "\n",
    "def QDD(Q,QD,m,k,alpha):\n",
    "    g_q2 = jacrev(L,argnums=0)(Q,QD,m,k,alpha)\n",
    "    g_qdot2 = jacrev(L,argnums=1)(Q,QD,m,k,alpha)\n",
    "    \n",
    "    g_q_qdot2 = jacrev(jacrev(L,argnums=1),argnums=0)(Q,QD,m,k,alpha)\n",
    "    g_qdot_q2 = jacrev(jacrev(L,argnums=0),argnums=1)(Q,QD,m,k,alpha)\n",
    "    g_qdot_qdot2 = jacrev(jacrev(L,argnums=1),argnums=1)(Q,QD,m,k,alpha)\n",
    "    D = torch.linalg.pinv(g_qdot_qdot2)\n",
    "    #print(g_q_qdot2@QD.T)\n",
    "    #print(D@(g_q2 - g_q_qdot2@QD.T).T)\n",
    "    return (D@(g_q2 - g_q_qdot2@QD.T).T).reshape(Q.shape)\n",
    "\n",
    "def QDD_true(Q,QD,m,k,alpha): #for testing if output is as expected for alpha=0\n",
    "    QDD = -k/m*Q\n",
    "    return QDD\n",
    "\n",
    "QDDv = vmap(QDD,in_dims=(0,0,None,None,None))\n",
    "\n",
    "Qv = torch.zeros(n_points,2)\n",
    "Qv[:,0] = Q0\n",
    "Qv[:,1] = Q1\n",
    "\n",
    "QDv = torch.zeros(n_points,2)\n",
    "QDv[:,0] = QD0\n",
    "QDv[:,1] = QD1\n",
    "\n",
    "print(QDD_true(Qv,QDv,m,k,alpha))\n",
    "\n",
    "print(QDDv(Qv,QDv,m,k,alpha)-QDD_true(Qv,QDv,m,k,alpha))\n"
   ]
  },
  {
   "cell_type": "code",
   "execution_count": null,
   "id": "68671a73-39c8-466d-b630-0f33523009ff",
   "metadata": {},
   "outputs": [],
   "source": []
  }
 ],
 "metadata": {
  "kernelspec": {
   "display_name": "Python [conda env:base] *",
   "language": "python",
   "name": "conda-base-py"
  },
  "language_info": {
   "codemirror_mode": {
    "name": "ipython",
    "version": 3
   },
   "file_extension": ".py",
   "mimetype": "text/x-python",
   "name": "python",
   "nbconvert_exporter": "python",
   "pygments_lexer": "ipython3",
   "version": "3.12.7"
  }
 },
 "nbformat": 4,
 "nbformat_minor": 5
}
