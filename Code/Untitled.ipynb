{
 "cells": [
  {
   "cell_type": "code",
   "execution_count": null,
   "id": "8a7cd1b2-1b37-4b12-9881-84d822fd423c",
   "metadata": {},
   "outputs": [],
   "source": [
    "import time\n",
    "\n",
    "x1, x2, y1, y2 = -1.8, 1.8, -1.8, 1.8\n",
    "c_real, c_imag = -.62772, -.42193\n",
    "\n",
    "def calc_pure_python(desired_width, max_iterations):\n",
    "    \"\"\"Create a list of complex coordinates (zx) and complex parameters (cs), build Julia set\"\"\"\n",
    "    x_step = (x2-x1)/desired_width\n",
    "    y_step = (y1-y2)/desired_width\n",
    "    x = []\n",
    "    y = []\n",
    "    ycoord = y2\n",
    "    while ycoord > y1:\n",
    "        y.append(ycoord)\n",
    "        ycoord += y_step\n",
    "    xcoord = x1\n",
    "    while xcoord < x2:\n",
    "        x.append(xcoord)\n",
    "        xcoord += xstep\n",
    "    zs = []\n",
    "    cs = []\n",
    "    for ycoord in y:\n",
    "        for xcoord in x:\n",
    "            zs.append(complex(xcoord, ycoord))\n",
    "            cs.append(complex(c_real, c_imag))\n",
    "\n",
    "    print(\"Length of x:\", len(x))\n",
    "    print(\"Total elements:\", len(zs))\n",
    "    start_time = time.time()\n",
    "    output = calculate_z_serial_purepython(max_iterations,zs,cs)\n",
    "    end_time = time.time()\n",
    "    secs = end_time - start_time\n",
    "    print(f\"{calculate_z_serial_purepython.__name__} took {secs:0.2f} seconds\")\n",
    "    \n",
    "    assert sum(output) == 33219980\n",
    "\n",
    "def calculate_z_serial_purepython(maxiter, zs, cs):\n",
    "    \"\"\"Calculate output list using Julia update rule\"\"\"\n",
    "    output = [0] * len(zs)\n",
    "    for i in range(len(zs)):\n",
    "        n = 0\n",
    "        z = zs[i]\n",
    "        c = cs[i]\n",
    "        while abs(z) < 2 and n < maxiter:\n",
    "            z = z * z + c\n",
    "            n += 1\n",
    "        output[i] = n\n",
    "    return output\n",
    "\n"
   ]
  }
 ],
 "metadata": {
  "kernelspec": {
   "display_name": "Python [conda env:base] *",
   "language": "python",
   "name": "conda-base-py"
  },
  "language_info": {
   "codemirror_mode": {
    "name": "ipython",
    "version": 3
   },
   "file_extension": ".py",
   "mimetype": "text/x-python",
   "name": "python",
   "nbconvert_exporter": "python",
   "pygments_lexer": "ipython3",
   "version": "3.12.7"
  }
 },
 "nbformat": 4,
 "nbformat_minor": 5
}
