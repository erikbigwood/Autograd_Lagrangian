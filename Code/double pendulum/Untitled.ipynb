{
 "cells": [
  {
   "cell_type": "code",
   "execution_count": 13,
   "id": "cfe56e58-180d-408a-99b8-6ae2fde71a3e",
   "metadata": {},
   "outputs": [
    {
     "name": "stdout",
     "output_type": "stream",
     "text": [
      "tensor([0.7309, 0.7713, 0.6955, 0.5359, 0.0893, 0.0735, 0.2703, 0.8467, 0.2813,\n",
      "        0.7980])\n",
      "tensor([0.7309, 0.7713, 0.6955, 0.5359, 0.0893, 0.0735, 0.2703, 0.8467, 0.2813,\n",
      "        0.7980])\n"
     ]
    }
   ],
   "source": [
    "import torch\n",
    "\n",
    "t = torch.rand(10)\n",
    "print(t)\n",
    "torch.sort(t)\n",
    "print(t)"
   ]
  },
  {
   "cell_type": "code",
   "execution_count": 17,
   "id": "bb76224a-30c9-4a38-b790-1516277eab6b",
   "metadata": {},
   "outputs": [],
   "source": [
    "values, ind = torch.sort(t)"
   ]
  },
  {
   "cell_type": "code",
   "execution_count": 21,
   "id": "0502cbcb-1b70-4136-a5c3-a4bdd39013cb",
   "metadata": {},
   "outputs": [
    {
     "data": {
      "text/plain": [
       "tensor([0.0735, 0.0893, 0.2703, 0.2813, 0.5359, 0.6955, 0.7309, 0.7713, 0.7980,\n",
       "        0.8467])"
      ]
     },
     "execution_count": 21,
     "metadata": {},
     "output_type": "execute_result"
    }
   ],
   "source": [
    "values"
   ]
  },
  {
   "cell_type": "code",
   "execution_count": 27,
   "id": "bdf12c99-9001-4f21-b232-7b10cb1623ee",
   "metadata": {},
   "outputs": [
    {
     "data": {
      "text/plain": [
       "tensor(50.)"
      ]
     },
     "execution_count": 27,
     "metadata": {},
     "output_type": "execute_result"
    }
   ],
   "source": [
    "torch.sqrt(torch.tensor(2500))"
   ]
  },
  {
   "cell_type": "code",
   "execution_count": null,
   "id": "03f68370-c017-441d-a7dd-e992771f0a4c",
   "metadata": {},
   "outputs": [],
   "source": []
  }
 ],
 "metadata": {
  "kernelspec": {
   "display_name": "Python [conda env:base] *",
   "language": "python",
   "name": "conda-base-py"
  },
  "language_info": {
   "codemirror_mode": {
    "name": "ipython",
    "version": 3
   },
   "file_extension": ".py",
   "mimetype": "text/x-python",
   "name": "python",
   "nbconvert_exporter": "python",
   "pygments_lexer": "ipython3",
   "version": "3.12.7"
  }
 },
 "nbformat": 4,
 "nbformat_minor": 5
}
